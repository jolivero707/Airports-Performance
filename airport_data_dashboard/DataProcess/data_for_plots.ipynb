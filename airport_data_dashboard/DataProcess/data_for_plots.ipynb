{
 "cells": [
  {
   "cell_type": "code",
   "execution_count": 1,
   "metadata": {},
   "outputs": [],
   "source": [
    "import pandas as pd\n",
    "import numpy as np \n",
    "import zipfile"
   ]
  },
  {
   "cell_type": "code",
   "execution_count": 2,
   "metadata": {},
   "outputs": [
    {
     "name": "stderr",
     "output_type": "stream",
     "text": [
      "/anaconda3/lib/python3.6/site-packages/IPython/core/interactiveshell.py:3020: DtypeWarning: Columns (48,77,84) have mixed types. Specify dtype option on import or set low_memory=False.\n",
      "  interactivity=interactivity, compiler=compiler, result=result)\n",
      "/anaconda3/lib/python3.6/site-packages/IPython/core/interactiveshell.py:3020: DtypeWarning: Columns (48,76,77,84) have mixed types. Specify dtype option on import or set low_memory=False.\n",
      "  interactivity=interactivity, compiler=compiler, result=result)\n",
      "/anaconda3/lib/python3.6/site-packages/IPython/core/interactiveshell.py:3020: DtypeWarning: Columns (48,77) have mixed types. Specify dtype option on import or set low_memory=False.\n",
      "  interactivity=interactivity, compiler=compiler, result=result)\n",
      "/anaconda3/lib/python3.6/site-packages/IPython/core/interactiveshell.py:3020: DtypeWarning: Columns (77,84) have mixed types. Specify dtype option on import or set low_memory=False.\n",
      "  interactivity=interactivity, compiler=compiler, result=result)\n",
      "/anaconda3/lib/python3.6/site-packages/IPython/core/interactiveshell.py:3020: DtypeWarning: Columns (48,69,76,77,84) have mixed types. Specify dtype option on import or set low_memory=False.\n",
      "  interactivity=interactivity, compiler=compiler, result=result)\n"
     ]
    }
   ],
   "source": [
    "#dataprocess/data/On_Time_Performance_1987_present_2003_1.zip\n",
    "#On_Time_Reporting_Carrier_On_Time_Performance_(1987_present)_2003_1.csv\n",
    "\n",
    "#all_df = pd.DataFrame()\n",
    "all_df = []\n",
    "zip_prefix = \"data/On_Time_Performance_1987_present_\"\n",
    "file_prefix = \"On_Time_Reporting_Carrier_On_Time_Performance_(1987_present)_\"\n",
    "for year in range(2017, 2019):\n",
    "    for month in range(1, 13):\n",
    "        full_zip_name = zip_prefix + str(year)+ \"_\" + str(month)+ \".zip\"\n",
    "        full_file_name = file_prefix + str(year)+ \"_\" + str(month)+ \".csv\"\n",
    "        with zipfile.ZipFile(full_zip_name) as z:\n",
    "            with z.open(full_file_name) as f:\n",
    "                df = pd.read_csv(f)\n",
    "                final_df = df[[\"Year\",\"Month\",\"DayofMonth\",\"DayOfWeek\",\n",
    "                               \"FlightDate\",\"Reporting_Airline\",\"Origin\",\n",
    "                               \"Dest\",\"DepDelayMinutes\",\"ArrDelayMinutes\",\"Cancelled\",\n",
    "                               \"CarrierDelay\",\"WeatherDelay\",\n",
    "                               \"NASDelay\",\"SecurityDelay\",\"LateAircraftDelay\"]]\n",
    "                df_after_drop_na = final_df.dropna(subset=['DepDelayMinutes', 'ArrDelayMinutes'])\n",
    "                all_df.append(df_after_drop_na)"
   ]
  },
  {
   "cell_type": "code",
   "execution_count": 3,
   "metadata": {},
   "outputs": [],
   "source": [
    "#concatdinate all dataframe into big one  \n",
    "result = pd.concat(all_df)\n",
    "result_after_drop_na = result.dropna()"
   ]
  },
  {
   "cell_type": "code",
   "execution_count": 91,
   "metadata": {},
   "outputs": [],
   "source": [
    "#result_after_drop_na.to_csv(\"clean_data/flight_data.csv\")"
   ]
  },
  {
   "cell_type": "code",
   "execution_count": 4,
   "metadata": {},
   "outputs": [],
   "source": [
    "#load airport coordinates file\n",
    "coord_dr = pd.read_csv(\"clean_data/final_airport_data_info.csv\")"
   ]
  },
  {
   "cell_type": "code",
   "execution_count": 5,
   "metadata": {},
   "outputs": [],
   "source": [
    "#coord_dr['type'].value_counts()"
   ]
  },
  {
   "cell_type": "code",
   "execution_count": 6,
   "metadata": {},
   "outputs": [],
   "source": [
    "# filter retain only small. medium and large airport\n",
    "sml_df = coord_dr[coord_dr['type'].isin([\"small_airport\",\"medium_airport\",\"large_airport\"])]"
   ]
  },
  {
   "cell_type": "code",
   "execution_count": 7,
   "metadata": {},
   "outputs": [
    {
     "data": {
      "text/plain": [
       "1866"
      ]
     },
     "execution_count": 7,
     "metadata": {},
     "output_type": "execute_result"
    }
   ],
   "source": [
    "# get list unique airport name\n",
    "unique_airport_list = sml_df.drop_duplicates('iata_code')\n",
    "len(unique_airport_list)"
   ]
  },
  {
   "cell_type": "code",
   "execution_count": 8,
   "metadata": {},
   "outputs": [
    {
     "data": {
      "text/html": [
       "<div>\n",
       "<style scoped>\n",
       "    .dataframe tbody tr th:only-of-type {\n",
       "        vertical-align: middle;\n",
       "    }\n",
       "\n",
       "    .dataframe tbody tr th {\n",
       "        vertical-align: top;\n",
       "    }\n",
       "\n",
       "    .dataframe thead th {\n",
       "        text-align: right;\n",
       "    }\n",
       "</style>\n",
       "<table border=\"1\" class=\"dataframe\">\n",
       "  <thead>\n",
       "    <tr style=\"text-align: right;\">\n",
       "      <th></th>\n",
       "      <th>iata_code</th>\n",
       "      <th>latitude_deg</th>\n",
       "      <th>longitude_deg</th>\n",
       "    </tr>\n",
       "  </thead>\n",
       "  <tbody>\n",
       "    <tr>\n",
       "      <th>0</th>\n",
       "      <td>LAX</td>\n",
       "      <td>33.942501</td>\n",
       "      <td>-118.407997</td>\n",
       "    </tr>\n",
       "    <tr>\n",
       "      <th>1</th>\n",
       "      <td>ORD</td>\n",
       "      <td>41.978600</td>\n",
       "      <td>-87.904800</td>\n",
       "    </tr>\n",
       "    <tr>\n",
       "      <th>2</th>\n",
       "      <td>JFK</td>\n",
       "      <td>40.639801</td>\n",
       "      <td>-73.778900</td>\n",
       "    </tr>\n",
       "  </tbody>\n",
       "</table>\n",
       "</div>"
      ],
      "text/plain": [
       "  iata_code  latitude_deg  longitude_deg\n",
       "0       LAX     33.942501    -118.407997\n",
       "1       ORD     41.978600     -87.904800\n",
       "2       JFK     40.639801     -73.778900"
      ]
     },
     "execution_count": 8,
     "metadata": {},
     "output_type": "execute_result"
    }
   ],
   "source": [
    "#create a dictionary to store airport coordinates \n",
    "airport_coords = unique_airport_list[['iata_code','latitude_deg','longitude_deg']]\n",
    "airport_coords.head(3)"
   ]
  },
  {
   "cell_type": "code",
   "execution_count": 9,
   "metadata": {},
   "outputs": [
    {
     "data": {
      "text/plain": [
       "1866"
      ]
     },
     "execution_count": 9,
     "metadata": {},
     "output_type": "execute_result"
    }
   ],
   "source": [
    "#convert to dictionary key\n",
    "key = airport_coords.iata_code\n",
    "lat =airport_coords.latitude_deg\n",
    "long = airport_coords.longitude_deg\n",
    "coordinate_dict = dict(zip(key,zip(lat,long)))\n",
    "len(coordinate_dict)"
   ]
  },
  {
   "cell_type": "code",
   "execution_count": 10,
   "metadata": {},
   "outputs": [],
   "source": [
    "#define function to get latitude and longtitude \n",
    "\n",
    "def ori_lat(name,lookup_dict):\n",
    "    try:\n",
    "        return lookup_dict[name][0]\n",
    "    except:\n",
    "        pass\n",
    "\n",
    "def ori_long(name,lookup_dict):\n",
    "    try:\n",
    "        return lookup_dict[name][1]\n",
    "    except:\n",
    "        pass"
   ]
  },
  {
   "cell_type": "code",
   "execution_count": null,
   "metadata": {},
   "outputs": [],
   "source": []
  },
  {
   "cell_type": "code",
   "execution_count": 11,
   "metadata": {},
   "outputs": [],
   "source": [
    "#create data series for origin and destination \n",
    "orgin_lat = result_after_drop_na['Origin']\n",
    "orgin_long = result_after_drop_na['Origin']\n",
    "\n",
    "des_lat = result_after_drop_na['Dest']\n",
    "des_long = result_after_drop_na['Dest']"
   ]
  },
  {
   "cell_type": "code",
   "execution_count": 12,
   "metadata": {},
   "outputs": [],
   "source": [
    "#Look up lat and long \n",
    "orgin_lat = orgin_lat.apply(lambda x: ori_lat(x,coordinate_dict))\n",
    "orgin_long = orgin_long.apply(lambda x: ori_long(x,coordinate_dict))\n",
    "\n",
    "des_lat = des_lat.apply(lambda x: ori_lat(x,coordinate_dict))\n",
    "des_long = des_long.apply(lambda x: ori_long(x,coordinate_dict))"
   ]
  },
  {
   "cell_type": "code",
   "execution_count": 15,
   "metadata": {},
   "outputs": [
    {
     "name": "stderr",
     "output_type": "stream",
     "text": [
      "/anaconda3/lib/python3.6/site-packages/ipykernel_launcher.py:2: SettingWithCopyWarning: \n",
      "A value is trying to be set on a copy of a slice from a DataFrame.\n",
      "Try using .loc[row_indexer,col_indexer] = value instead\n",
      "\n",
      "See the caveats in the documentation: http://pandas.pydata.org/pandas-docs/stable/indexing.html#indexing-view-versus-copy\n",
      "  \n",
      "/anaconda3/lib/python3.6/site-packages/ipykernel_launcher.py:3: SettingWithCopyWarning: \n",
      "A value is trying to be set on a copy of a slice from a DataFrame.\n",
      "Try using .loc[row_indexer,col_indexer] = value instead\n",
      "\n",
      "See the caveats in the documentation: http://pandas.pydata.org/pandas-docs/stable/indexing.html#indexing-view-versus-copy\n",
      "  This is separate from the ipykernel package so we can avoid doing imports until\n",
      "/anaconda3/lib/python3.6/site-packages/ipykernel_launcher.py:4: SettingWithCopyWarning: \n",
      "A value is trying to be set on a copy of a slice from a DataFrame.\n",
      "Try using .loc[row_indexer,col_indexer] = value instead\n",
      "\n",
      "See the caveats in the documentation: http://pandas.pydata.org/pandas-docs/stable/indexing.html#indexing-view-versus-copy\n",
      "  after removing the cwd from sys.path.\n",
      "/anaconda3/lib/python3.6/site-packages/ipykernel_launcher.py:5: SettingWithCopyWarning: \n",
      "A value is trying to be set on a copy of a slice from a DataFrame.\n",
      "Try using .loc[row_indexer,col_indexer] = value instead\n",
      "\n",
      "See the caveats in the documentation: http://pandas.pydata.org/pandas-docs/stable/indexing.html#indexing-view-versus-copy\n",
      "  \"\"\"\n"
     ]
    }
   ],
   "source": [
    "#append to final data \n",
    "result_after_drop_na['orgin_lat'] = orgin_lat\n",
    "result_after_drop_na['orgin_long'] = orgin_long\n",
    "result_after_drop_na['des_lat'] = des_lat\n",
    "result_after_drop_na['des_long'] = des_long"
   ]
  },
  {
   "cell_type": "code",
   "execution_count": 17,
   "metadata": {},
   "outputs": [
    {
     "data": {
      "text/html": [
       "<div>\n",
       "<style scoped>\n",
       "    .dataframe tbody tr th:only-of-type {\n",
       "        vertical-align: middle;\n",
       "    }\n",
       "\n",
       "    .dataframe tbody tr th {\n",
       "        vertical-align: top;\n",
       "    }\n",
       "\n",
       "    .dataframe thead th {\n",
       "        text-align: right;\n",
       "    }\n",
       "</style>\n",
       "<table border=\"1\" class=\"dataframe\">\n",
       "  <thead>\n",
       "    <tr style=\"text-align: right;\">\n",
       "      <th></th>\n",
       "      <th>Year</th>\n",
       "      <th>Month</th>\n",
       "      <th>DayofMonth</th>\n",
       "      <th>DayOfWeek</th>\n",
       "      <th>FlightDate</th>\n",
       "      <th>Reporting_Airline</th>\n",
       "      <th>Origin</th>\n",
       "      <th>Dest</th>\n",
       "      <th>DepDelayMinutes</th>\n",
       "      <th>ArrDelayMinutes</th>\n",
       "      <th>Cancelled</th>\n",
       "      <th>CarrierDelay</th>\n",
       "      <th>WeatherDelay</th>\n",
       "      <th>NASDelay</th>\n",
       "      <th>SecurityDelay</th>\n",
       "      <th>LateAircraftDelay</th>\n",
       "      <th>orgin_lat</th>\n",
       "      <th>orgin_long</th>\n",
       "      <th>des_lat</th>\n",
       "      <th>des_long</th>\n",
       "    </tr>\n",
       "  </thead>\n",
       "  <tbody>\n",
       "    <tr>\n",
       "      <th>0</th>\n",
       "      <td>2017</td>\n",
       "      <td>1</td>\n",
       "      <td>1</td>\n",
       "      <td>7</td>\n",
       "      <td>2017-01-01</td>\n",
       "      <td>AA</td>\n",
       "      <td>JFK</td>\n",
       "      <td>LAX</td>\n",
       "      <td>31.0</td>\n",
       "      <td>27.0</td>\n",
       "      <td>0.0</td>\n",
       "      <td>27.0</td>\n",
       "      <td>0.0</td>\n",
       "      <td>0.0</td>\n",
       "      <td>0.0</td>\n",
       "      <td>0.0</td>\n",
       "      <td>40.639801</td>\n",
       "      <td>-73.7789</td>\n",
       "      <td>33.942501</td>\n",
       "      <td>-118.407997</td>\n",
       "    </tr>\n",
       "    <tr>\n",
       "      <th>7</th>\n",
       "      <td>2017</td>\n",
       "      <td>1</td>\n",
       "      <td>8</td>\n",
       "      <td>7</td>\n",
       "      <td>2017-01-08</td>\n",
       "      <td>AA</td>\n",
       "      <td>JFK</td>\n",
       "      <td>LAX</td>\n",
       "      <td>4.0</td>\n",
       "      <td>21.0</td>\n",
       "      <td>0.0</td>\n",
       "      <td>0.0</td>\n",
       "      <td>4.0</td>\n",
       "      <td>17.0</td>\n",
       "      <td>0.0</td>\n",
       "      <td>0.0</td>\n",
       "      <td>40.639801</td>\n",
       "      <td>-73.7789</td>\n",
       "      <td>33.942501</td>\n",
       "      <td>-118.407997</td>\n",
       "    </tr>\n",
       "    <tr>\n",
       "      <th>8</th>\n",
       "      <td>2017</td>\n",
       "      <td>1</td>\n",
       "      <td>9</td>\n",
       "      <td>1</td>\n",
       "      <td>2017-01-09</td>\n",
       "      <td>AA</td>\n",
       "      <td>JFK</td>\n",
       "      <td>LAX</td>\n",
       "      <td>169.0</td>\n",
       "      <td>158.0</td>\n",
       "      <td>0.0</td>\n",
       "      <td>158.0</td>\n",
       "      <td>0.0</td>\n",
       "      <td>0.0</td>\n",
       "      <td>0.0</td>\n",
       "      <td>0.0</td>\n",
       "      <td>40.639801</td>\n",
       "      <td>-73.7789</td>\n",
       "      <td>33.942501</td>\n",
       "      <td>-118.407997</td>\n",
       "    </tr>\n",
       "    <tr>\n",
       "      <th>10</th>\n",
       "      <td>2017</td>\n",
       "      <td>1</td>\n",
       "      <td>11</td>\n",
       "      <td>3</td>\n",
       "      <td>2017-01-11</td>\n",
       "      <td>AA</td>\n",
       "      <td>JFK</td>\n",
       "      <td>LAX</td>\n",
       "      <td>0.0</td>\n",
       "      <td>18.0</td>\n",
       "      <td>0.0</td>\n",
       "      <td>0.0</td>\n",
       "      <td>0.0</td>\n",
       "      <td>18.0</td>\n",
       "      <td>0.0</td>\n",
       "      <td>0.0</td>\n",
       "      <td>40.639801</td>\n",
       "      <td>-73.7789</td>\n",
       "      <td>33.942501</td>\n",
       "      <td>-118.407997</td>\n",
       "    </tr>\n",
       "    <tr>\n",
       "      <th>13</th>\n",
       "      <td>2017</td>\n",
       "      <td>1</td>\n",
       "      <td>15</td>\n",
       "      <td>7</td>\n",
       "      <td>2017-01-15</td>\n",
       "      <td>AA</td>\n",
       "      <td>JFK</td>\n",
       "      <td>LAX</td>\n",
       "      <td>0.0</td>\n",
       "      <td>23.0</td>\n",
       "      <td>0.0</td>\n",
       "      <td>0.0</td>\n",
       "      <td>0.0</td>\n",
       "      <td>23.0</td>\n",
       "      <td>0.0</td>\n",
       "      <td>0.0</td>\n",
       "      <td>40.639801</td>\n",
       "      <td>-73.7789</td>\n",
       "      <td>33.942501</td>\n",
       "      <td>-118.407997</td>\n",
       "    </tr>\n",
       "  </tbody>\n",
       "</table>\n",
       "</div>"
      ],
      "text/plain": [
       "    Year  Month  DayofMonth  DayOfWeek  FlightDate Reporting_Airline Origin  \\\n",
       "0   2017      1           1          7  2017-01-01                AA    JFK   \n",
       "7   2017      1           8          7  2017-01-08                AA    JFK   \n",
       "8   2017      1           9          1  2017-01-09                AA    JFK   \n",
       "10  2017      1          11          3  2017-01-11                AA    JFK   \n",
       "13  2017      1          15          7  2017-01-15                AA    JFK   \n",
       "\n",
       "   Dest  DepDelayMinutes  ArrDelayMinutes  Cancelled  CarrierDelay  \\\n",
       "0   LAX             31.0             27.0        0.0          27.0   \n",
       "7   LAX              4.0             21.0        0.0           0.0   \n",
       "8   LAX            169.0            158.0        0.0         158.0   \n",
       "10  LAX              0.0             18.0        0.0           0.0   \n",
       "13  LAX              0.0             23.0        0.0           0.0   \n",
       "\n",
       "    WeatherDelay  NASDelay  SecurityDelay  LateAircraftDelay  orgin_lat  \\\n",
       "0            0.0       0.0            0.0                0.0  40.639801   \n",
       "7            4.0      17.0            0.0                0.0  40.639801   \n",
       "8            0.0       0.0            0.0                0.0  40.639801   \n",
       "10           0.0      18.0            0.0                0.0  40.639801   \n",
       "13           0.0      23.0            0.0                0.0  40.639801   \n",
       "\n",
       "    orgin_long    des_lat    des_long  \n",
       "0     -73.7789  33.942501 -118.407997  \n",
       "7     -73.7789  33.942501 -118.407997  \n",
       "8     -73.7789  33.942501 -118.407997  \n",
       "10    -73.7789  33.942501 -118.407997  \n",
       "13    -73.7789  33.942501 -118.407997  "
      ]
     },
     "execution_count": 17,
     "metadata": {},
     "output_type": "execute_result"
    }
   ],
   "source": [
    "result_after_drop_na.head(5)"
   ]
  },
  {
   "cell_type": "code",
   "execution_count": 18,
   "metadata": {},
   "outputs": [],
   "source": [
    "# Drop airport without coordinates and save to csv\n",
    "result_after_drop_na = result_after_drop_na.dropna()\n",
    "result_after_drop_na.to_csv(\"clean_data/final_flight_data.csv\",index=False)"
   ]
  },
  {
   "cell_type": "code",
   "execution_count": null,
   "metadata": {},
   "outputs": [],
   "source": []
  }
 ],
 "metadata": {
  "kernelspec": {
   "display_name": "Python 3",
   "language": "python",
   "name": "python3"
  },
  "language_info": {
   "codemirror_mode": {
    "name": "ipython",
    "version": 3
   },
   "file_extension": ".py",
   "mimetype": "text/x-python",
   "name": "python",
   "nbconvert_exporter": "python",
   "pygments_lexer": "ipython3",
   "version": "3.6.8"
  }
 },
 "nbformat": 4,
 "nbformat_minor": 2
}
