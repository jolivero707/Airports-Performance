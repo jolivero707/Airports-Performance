{
 "cells": [
  {
   "cell_type": "code",
   "execution_count": 1,
   "metadata": {},
   "outputs": [],
   "source": [
    "import sqlite3\n",
    "import pandas as pd"
   ]
  },
  {
   "cell_type": "markdown",
   "metadata": {},
   "source": [
    "# Load in Tool Tips "
   ]
  },
  {
   "cell_type": "code",
   "execution_count": 2,
   "metadata": {},
   "outputs": [
    {
     "ename": "OperationalError",
     "evalue": "unable to open database file",
     "output_type": "error",
     "traceback": [
      "\u001b[0;31m---------------------------------------------------------------------------\u001b[0m",
      "\u001b[0;31mOperationalError\u001b[0m                          Traceback (most recent call last)",
      "\u001b[0;32m<ipython-input-2-6431c5c49dad>\u001b[0m in \u001b[0;36m<module>\u001b[0;34m\u001b[0m\n\u001b[1;32m      6\u001b[0m \u001b[0;34m\u001b[0m\u001b[0m\n\u001b[1;32m      7\u001b[0m \u001b[0;34m\u001b[0m\u001b[0m\n\u001b[0;32m----> 8\u001b[0;31m \u001b[0mcon\u001b[0m \u001b[0;34m=\u001b[0m \u001b[0msqlite3\u001b[0m\u001b[0;34m.\u001b[0m\u001b[0mconnect\u001b[0m\u001b[0;34m(\u001b[0m\u001b[0;34m\"/Users/jwoh1/Desktop/Data Analytics Bootcamp/Project 2/Working Folder/db/airport_db.sqlite\"\u001b[0m\u001b[0;34m)\u001b[0m\u001b[0;34m\u001b[0m\u001b[0;34m\u001b[0m\u001b[0m\n\u001b[0m\u001b[1;32m      9\u001b[0m \u001b[0;34m\u001b[0m\u001b[0m\n\u001b[1;32m     10\u001b[0m \u001b[0;31m# drop data into database\u001b[0m\u001b[0;34m\u001b[0m\u001b[0;34m\u001b[0m\u001b[0;34m\u001b[0m\u001b[0m\n",
      "\u001b[0;31mOperationalError\u001b[0m: unable to open database file"
     ]
    }
   ],
   "source": [
    "# load data\n",
    "df = pd.read_csv(\"final_airport_info.csv\")\n",
    "\n",
    "# strip whitespace from headerstoll\n",
    "df.columns = df.columns.str.strip()\n",
    "\n",
    "\n",
    "con = sqlite3.connect(\"/Users/devo/sqlite/airport.sqlite\")\n",
    "\n",
    "# drop data into database\n",
    "df.to_sql(\"tool_tips\",con,if_exists='replace',index = True,index_label=None,dtype = None)\n",
    "\n",
    "c = con.cursor()\n",
    "\n",
    "c.executescript('''\n",
    "    PRAGMA foreign_keys=off;\n",
    "\n",
    "    BEGIN TRANSACTION;\n",
    "    ALTER TABLE tool_tips RENAME TO new_tool_tips;\n",
    "\n",
    "    /*create a new table with the same column names and types while\n",
    "    defining a primary key for the desired column*/\n",
    "    \n",
    "    CREATE TABLE info (id INTERGER PRIMARY KEY NOT NULL,\n",
    "                            type TEXT,name TEXT,latitude REAL,\n",
    "                            longitude REAL,elevation REAL,municipality TEXT,\n",
    "                            iata_code TEXT,home_link TEXT);\n",
    "\n",
    "    INSERT INTO info SELECT * FROM new_tool_tips;\n",
    "\n",
    "    DROP TABLE new_tool_tips;\n",
    "    COMMIT TRANSACTION;\n",
    "\n",
    "    PRAGMA foreign_keys=on;''')\n",
    "\n",
    "c.close()\n",
    "con.close()"
   ]
  },
  {
   "cell_type": "markdown",
   "metadata": {},
   "source": [
    "# Load in Airport Route"
   ]
  },
  {
   "cell_type": "code",
   "execution_count": 29,
   "metadata": {},
   "outputs": [],
   "source": [
    "df2 = pd.read_csv(\"clean_data/airport_long_lat.csv\")"
   ]
  },
  {
   "cell_type": "code",
   "execution_count": 31,
   "metadata": {},
   "outputs": [],
   "source": [
    "#get list of uniqure airport \n",
    "airport_list= df2['Origin'].unique()\n",
    "final_df = pd.DataFrame()"
   ]
  },
  {
   "cell_type": "code",
   "execution_count": 32,
   "metadata": {},
   "outputs": [],
   "source": [
    "for airport in airport_list:\n",
    "    route = df2[df2['Origin']== airport]\n",
    "    final_df = final_df.append(route)\n",
    "    final_df = final_df.drop_duplicates()"
   ]
  },
  {
   "cell_type": "code",
   "execution_count": 34,
   "metadata": {},
   "outputs": [],
   "source": [
    "final_df.to_csv(\"clean_data/routes.csv\",index=False)"
   ]
  },
  {
   "cell_type": "code",
   "execution_count": null,
   "metadata": {},
   "outputs": [],
   "source": []
  },
  {
   "cell_type": "code",
   "execution_count": 3,
   "metadata": {},
   "outputs": [],
   "source": [
    "df2 = pd.read_csv(\"clean_data/airport_long_lat.csv\")\n",
    "df2.columns = df2.columns.str.strip()\n",
    "con = sqlite3.connect(\"/Users/devo/sqlite/airport.sqlite\")\n",
    "df2.to_sql(\"airport_connection\",con,if_exists='replace',index = True,index_label=None,dtype = None)\n",
    "c = con.cursor()\n",
    "\n",
    "c.executescript('''\n",
    "    PRAGMA foreign_keys=off;\n",
    "    BEGIN TRANSACTION;\n",
    "    \n",
    "    ALTER TABLE airport_connection RENAME TO new_airport_connection;\n",
    "\n",
    "    /*create a new table with the same column names and types while\n",
    "    defining a primary key for the desired column*/\n",
    "    \n",
    "    CREATE TABLE Airport_Route (id INTERGER PRIMARY KEY NOT NULL,\n",
    "                            Origin TEXT, Dest TEXT, \n",
    "                            Origin_lat REAL,Origin_long REAL,\n",
    "                            Dest_lat REAL,Dest_long REAL);\n",
    "\n",
    "\n",
    "    INSERT INTO Airport_Route SELECT * FROM new_airport_connection;\n",
    "\n",
    "    DROP TABLE new_airport_connection;\n",
    "    \n",
    "    COMMIT TRANSACTION;\n",
    "\n",
    "    PRAGMA foreign_keys=on;''')\n",
    "\n",
    "c.close()\n",
    "con.close()"
   ]
  },
  {
   "cell_type": "markdown",
   "metadata": {},
   "source": [
    "# Monthly"
   ]
  },
  {
   "cell_type": "code",
   "execution_count": 4,
   "metadata": {},
   "outputs": [],
   "source": [
    "df3 = pd.read_csv(\"clean_data/average_monthly_delay.csv\")\n",
    "\n",
    "df3.columns = df3.columns.str.strip()\n",
    "con = sqlite3.connect(\"/Users/devo/sqlite/airport_db.sqlite\")\n",
    "\n",
    "df3.to_sql(\"average\",con,if_exists='replace',index = True,index_label=None,dtype = None)\n",
    "c = con.cursor()\n",
    "\n",
    "c.executescript('''\n",
    "    PRAGMA foreign_keys=off;\n",
    "    BEGIN TRANSACTION;\n",
    "    \n",
    "    ALTER TABLE average RENAME TO new_average;\n",
    "\n",
    "    /*create a new table with the same column names and types while\n",
    "    defining a primary key for the desired column*/\n",
    "    \n",
    "    CREATE TABLE Monthly_Average (id INTERGER PRIMARY KEY NOT NULL,\n",
    "                                    Origin TEXT, Year INTERGER,\n",
    "                                    Month INTERGER, Depart_Delay REAL,\n",
    "                                    Arrival_Delay REAL, Carrier_Delay REAL,\n",
    "                                    Weather_Delay REAL, NAS_Delay REAL, \n",
    "                                    Security_Delay REAL, Aircraft_Delay REAL);\n",
    "\n",
    "\n",
    "    INSERT INTO Monthly_Average SELECT * FROM new_average;\n",
    "\n",
    "    DROP TABLE new_average;\n",
    "    \n",
    "    COMMIT TRANSACTION;\n",
    "\n",
    "    PRAGMA foreign_keys=on;''')\n",
    "\n",
    "c.close()\n",
    "con.close()"
   ]
  },
  {
   "cell_type": "markdown",
   "metadata": {},
   "source": [
    "# Delay by Airline"
   ]
  },
  {
   "cell_type": "code",
   "execution_count": 5,
   "metadata": {},
   "outputs": [],
   "source": [
    "df4 = pd.read_csv(\"clean_data/Delay_By_Airline.csv\")\n",
    "\n",
    "df4.columns = df4.columns.str.strip()\n",
    "con = sqlite3.connect(\"/Users/devo/sqlite/airport_db.sqlite\")\n",
    "\n",
    "df4.to_sql(\"delay_air\",con,if_exists='replace',index = True,index_label=None,dtype = None)\n",
    "c = con.cursor()\n",
    "\n",
    "c.executescript('''\n",
    "    PRAGMA foreign_keys=off;\n",
    "    BEGIN TRANSACTION;\n",
    "    \n",
    "    ALTER TABLE delay_air RENAME TO new_delay_air;\n",
    "\n",
    "    /*create a new table with the same column names and types while\n",
    "    defining a primary key for the desired column*/\n",
    "    \n",
    "    CREATE TABLE Delay_By_Airline (id INTERGER PRIMARY KEY NOT NULL,\n",
    "                                    Reporting_Airline TEXT, \n",
    "                                    Dep_On_Late_Arr REAL, Carrier_Delay REAL,\n",
    "                                    Weather_Delay REAL, NAS_Delay REAL, \n",
    "                                    Security_Delay REAL, Aircraft_Delay REAL, Year INTERGER);\n",
    "\n",
    "\n",
    "    INSERT INTO Delay_By_Airline SELECT * FROM new_delay_air;\n",
    "\n",
    "    DROP TABLE new_delay_air;\n",
    "    \n",
    "    COMMIT TRANSACTION;\n",
    "\n",
    "    PRAGMA foreign_keys=on;''')\n",
    "\n",
    "c.close()\n",
    "con.close()"
   ]
  },
  {
   "cell_type": "code",
   "execution_count": null,
   "metadata": {},
   "outputs": [],
   "source": []
  }
 ],
 "metadata": {
  "kernelspec": {
   "display_name": "Python 3",
   "language": "python",
   "name": "python3"
  },
  "language_info": {
   "codemirror_mode": {
    "name": "ipython",
    "version": 3
   },
   "file_extension": ".py",
   "mimetype": "text/x-python",
   "name": "python",
   "nbconvert_exporter": "python",
   "pygments_lexer": "ipython3",
   "version": "3.6.8"
  }
 },
 "nbformat": 4,
 "nbformat_minor": 2
}
